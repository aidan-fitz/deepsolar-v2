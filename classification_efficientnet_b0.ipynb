{
 "cells": [
  {
   "cell_type": "markdown",
   "metadata": {},
   "source": [
    "# Binary classificiation and transfer learning with EfficientNetB0\n",
    "\n",
    "By Evelyn Fitzgerald (acf67)\n",
    "\n",
    "In this notebook, I show that an EfficientNetB0 NN pre-trained on the ImageNet dataset can be used for a binary classification task. The EfficientNet family of NNs is great because the NNs achieve better performance for a lower computational and memory overhead than other state-of-the-art image classifiers \\[[1][enet]]. So whereas the original DeepSolar NNs were based on Inception v3, I'd like to use the EfficientNets.\n",
    "\n",
    "One problem I had was that while EfficientNetB0 could be loaded into Keras with pre-trained weights, the number of classes had to be 1000 (the number of classes in ImageNet). So instead of using the NN as is, I had to get the pre-trained NN without the final layer by setting `include_top=False`, then attaching my own two-class output layer to the end. The pre-trained layers have to be frozen so they won't be corrupted during fine-tuning (which I don't do in this notebook... yet).\n",
    "\n",
    "I also added a `GlobalAveragePooling2D` layer to merge all of the pixels in each channel into a single data point, so that the input to the final layer has a fixed size regardless of the size of the input image.\n",
    "\n",
    "`BatchNormalization` is also included in the tutorial so I copied it in but I don't actually know why it's needed. I think it's feature scaling?\n",
    "\n",
    "[enet]: https://github.com/tensorflow/tpu/tree/master/models/official/efficientnet\n",
    "\n",
    "Reference: [Image classification via fine-tuning with EfficientNet](https://keras.io/examples/vision/image_classification_efficientnet_fine_tuning/)"
   ]
  },
  {
   "cell_type": "code",
   "execution_count": 1,
   "metadata": {},
   "outputs": [],
   "source": [
    "import tensorflow as tf\n",
    "from tensorflow import keras"
   ]
  },
  {
   "cell_type": "code",
   "execution_count": 2,
   "metadata": {},
   "outputs": [],
   "source": [
    "img0 = tf.random.uniform(shape=(1,224,224,3))"
   ]
  },
  {
   "cell_type": "code",
   "execution_count": 3,
   "metadata": {},
   "outputs": [],
   "source": [
    "enet0_seg = keras.applications.EfficientNetB0(include_top=False)"
   ]
  },
  {
   "cell_type": "code",
   "execution_count": 4,
   "metadata": {},
   "outputs": [],
   "source": [
    "# Freeze this layer so it won't be corrupted during fine-tuning\n",
    "enet0_seg.trainable = False"
   ]
  },
  {
   "cell_type": "code",
   "execution_count": 5,
   "metadata": {},
   "outputs": [],
   "source": [
    "out1 = enet0_seg.predict(img0)"
   ]
  },
  {
   "cell_type": "code",
   "execution_count": 6,
   "metadata": {},
   "outputs": [
    {
     "data": {
      "text/plain": [
       "(1, 7, 7, 1280)"
      ]
     },
     "execution_count": 6,
     "metadata": {},
     "output_type": "execute_result"
    }
   ],
   "source": [
    "out1.shape"
   ]
  },
  {
   "cell_type": "code",
   "execution_count": 7,
   "metadata": {},
   "outputs": [],
   "source": [
    "enet0_binary = keras.Sequential(\n",
    "    [\n",
    "        enet0_seg,\n",
    "        keras.layers.GlobalAveragePooling2D(name=\"avg_pool\"),\n",
    "        keras.layers.BatchNormalization(),\n",
    "        keras.layers.Dense(2, activation=\"softmax\", name=\"classify\")\n",
    "    ],\n",
    "    name=\"efficientnetb0_binary\"\n",
    ")"
   ]
  },
  {
   "cell_type": "code",
   "execution_count": 8,
   "metadata": {},
   "outputs": [
    {
     "name": "stdout",
     "output_type": "stream",
     "text": [
      "Model: \"efficientnetb0_binary\"\n",
      "_________________________________________________________________\n",
      "Layer (type)                 Output Shape              Param #   \n",
      "=================================================================\n",
      "efficientnetb0 (Functional)  (None, None, None, 1280)  4049571   \n",
      "_________________________________________________________________\n",
      "avg_pool (GlobalAveragePooli (None, 1280)              0         \n",
      "_________________________________________________________________\n",
      "batch_normalization (BatchNo (None, 1280)              5120      \n",
      "_________________________________________________________________\n",
      "classify (Dense)             (None, 2)                 2562      \n",
      "=================================================================\n",
      "Total params: 4,057,253\n",
      "Trainable params: 5,122\n",
      "Non-trainable params: 4,052,131\n",
      "_________________________________________________________________\n"
     ]
    }
   ],
   "source": [
    "enet0_binary.summary()"
   ]
  },
  {
   "cell_type": "code",
   "execution_count": 9,
   "metadata": {},
   "outputs": [
    {
     "name": "stdout",
     "output_type": "stream",
     "text": [
      "Time: 0.81268 s\n"
     ]
    }
   ],
   "source": [
    "# Tell us how long it takes to classify a single image\n",
    "from time import time\n",
    "\n",
    "start_time = time()\n",
    "\n",
    "out2 = enet0_binary.predict(img0)\n",
    "\n",
    "elapsed = time() - start_time\n",
    "print(f\"Time: {elapsed:.5f} s\")"
   ]
  },
  {
   "cell_type": "code",
   "execution_count": 10,
   "metadata": {},
   "outputs": [
    {
     "data": {
      "text/plain": [
       "(1, 2)"
      ]
     },
     "execution_count": 10,
     "metadata": {},
     "output_type": "execute_result"
    }
   ],
   "source": [
    "out2.shape"
   ]
  },
  {
   "cell_type": "code",
   "execution_count": 11,
   "metadata": {},
   "outputs": [
    {
     "data": {
      "text/plain": [
       "array([[0.5021458, 0.4978542]], dtype=float32)"
      ]
     },
     "execution_count": 11,
     "metadata": {},
     "output_type": "execute_result"
    }
   ],
   "source": [
    "out2"
   ]
  },
  {
   "cell_type": "code",
   "execution_count": null,
   "metadata": {},
   "outputs": [],
   "source": []
  }
 ],
 "metadata": {
  "kernelspec": {
   "display_name": "Python 3",
   "language": "python",
   "name": "python3"
  },
  "language_info": {
   "codemirror_mode": {
    "name": "ipython",
    "version": 3
   },
   "file_extension": ".py",
   "mimetype": "text/x-python",
   "name": "python",
   "nbconvert_exporter": "python",
   "pygments_lexer": "ipython3",
   "version": "3.8.6"
  }
 },
 "nbformat": 4,
 "nbformat_minor": 4
}
